{
  "nbformat": 4,
  "nbformat_minor": 0,
  "metadata": {
    "colab": {
      "provenance": []
    },
    "kernelspec": {
      "name": "python3",
      "display_name": "Python 3"
    },
    "language_info": {
      "name": "python"
    }
  },
  "cells": [
    {
      "cell_type": "code",
      "source": [
        "from sklearn.feature_extraction.text import TfidfVectorizer\n",
        "from sklearn.feature_selection import mutual_info_classif\n",
        "from sklearn.neighbors import KNeighborsClassifier\n",
        "import numpy as np\n",
        "\n",
        "# STEP 1\n",
        "# Training data\n",
        "d1_train = [\"free\", \"free\", \"free\", \"buy\", \"discount\", \"combo\", \"pleasure\"]\n",
        "d2_train = [\"free\", \"free\", \"free\", \"discount\", \"pleasure\", \"smile\", \"smile\", \"smile\"]\n",
        "d3_train = [\"cat\", \"mouse\"]\n",
        "d4_train = [\"cat\", \"cat\", \"dog\", \"dog\", \"dog\", \"dog\"]\n",
        "d5_train = [\"mouse\"]\n",
        "\n",
        "# Class labels\n",
        "d1_class = [\"S\", \"S\", \"S\", \"S\", \"S\", \"S\", \"S\"]\n",
        "d2_class = [\"S\", \"S\", \"S\", \"S\", \"S\", \"S\", \"S\", \"S\"]\n",
        "d3_class = [\"N\", \"N\"]\n",
        "d4_class = [\"N\", \"N\", \"N\", \"N\", \"N\", \"N\"]\n",
        "d5_class = [\"N\"]\n",
        "\n",
        "# Test data\n",
        "d6_test = [\"dog\", \"cat\", \"mouse\", \"cat\"]\n",
        "d7_test = [\"free\", \"free\", \"smile\"]\n",
        "\n",
        "# Combine all training data\n",
        "all_train = d1_train + d2_train + d3_train + d4_train + d5_train\n",
        "all_classes = d1_class + d2_class + d3_class + d4_class + d5_class\n",
        "\n",
        "# Combine training and test data\n",
        "all_data = all_train + d6_test + d7_test\n",
        "\n",
        "# Convert word features to TF-IDF scores\n",
        "vectorizer = TfidfVectorizer()\n",
        "X = vectorizer.fit_transform(all_data)\n",
        "\n",
        "# Compute Mutual Information\n",
        "mi_scores = mutual_info_classif(X[:len(all_train)], all_classes)\n",
        "\n",
        "# Create a dictionary of word-feature pairs\n",
        "word_features = {word: mi for word, mi in zip(vectorizer.get_feature_names_out(), mi_scores)}\n",
        "\n",
        "# Sort the word features by MI score in descending order\n",
        "sorted_features = sorted(word_features.items(), key=lambda x: x[1], reverse=True)\n",
        "\n",
        "# Select the top two features\n",
        "top_features = sorted_features[:2]\n",
        "\n",
        "# Print the selected features\n",
        "for feature, score in top_features:\n",
        "    print(f\"Feature: {feature}, MI Score: {score}\")\n",
        "\n",
        "\n",
        "\n",
        "\n",
        "\n"
      ],
      "metadata": {
        "id": "fZcOiZb0D1Gt",
        "colab": {
          "base_uri": "https://localhost:8080/"
        },
        "outputId": "fe29e8c5-92e0-4f60-8e74-148d91190e44"
      },
      "execution_count": 44,
      "outputs": [
        {
          "output_type": "stream",
          "name": "stdout",
          "text": [
            "Feature: dog, MI Score: 0.1929506176423086\n",
            "Feature: free, MI Score: 0.1417028527380234\n"
          ]
        }
      ]
    },
    {
      "cell_type": "code",
      "source": [
        "# STEP 2\n",
        "\n",
        "# Print TF-IDF scores\n",
        "for feature, score in top_features:\n",
        "    print(\"TF-IDF scores:\")\n",
        "    for i, doc in enumerate(all_train):\n",
        "        tfidf_score = X[i, vectorizer.vocabulary_[feature]]\n",
        "        print(f\"Document {i + 1}: {tfidf_score}\")"
      ],
      "metadata": {
        "colab": {
          "base_uri": "https://localhost:8080/"
        },
        "id": "DOKd82fsWfSX",
        "outputId": "18c11326-43e7-45e6-9986-bf3b7d0815b8"
      },
      "execution_count": 45,
      "outputs": [
        {
          "output_type": "stream",
          "name": "stdout",
          "text": [
            "TF-IDF scores:\n",
            "Document 1: 0.0\n",
            "Document 2: 0.0\n",
            "Document 3: 0.0\n",
            "Document 4: 0.0\n",
            "Document 5: 0.0\n",
            "Document 6: 0.0\n",
            "Document 7: 0.0\n",
            "Document 8: 0.0\n",
            "Document 9: 0.0\n",
            "Document 10: 0.0\n",
            "Document 11: 0.0\n",
            "Document 12: 0.0\n",
            "Document 13: 0.0\n",
            "Document 14: 0.0\n",
            "Document 15: 0.0\n",
            "Document 16: 0.0\n",
            "Document 17: 0.0\n",
            "Document 18: 0.0\n",
            "Document 19: 0.0\n",
            "Document 20: 1.0\n",
            "Document 21: 1.0\n",
            "Document 22: 1.0\n",
            "Document 23: 1.0\n",
            "Document 24: 0.0\n",
            "TF-IDF scores:\n",
            "Document 1: 1.0\n",
            "Document 2: 1.0\n",
            "Document 3: 1.0\n",
            "Document 4: 0.0\n",
            "Document 5: 0.0\n",
            "Document 6: 0.0\n",
            "Document 7: 0.0\n",
            "Document 8: 1.0\n",
            "Document 9: 1.0\n",
            "Document 10: 1.0\n",
            "Document 11: 0.0\n",
            "Document 12: 0.0\n",
            "Document 13: 0.0\n",
            "Document 14: 0.0\n",
            "Document 15: 0.0\n",
            "Document 16: 0.0\n",
            "Document 17: 0.0\n",
            "Document 18: 0.0\n",
            "Document 19: 0.0\n",
            "Document 20: 0.0\n",
            "Document 21: 0.0\n",
            "Document 22: 0.0\n",
            "Document 23: 0.0\n",
            "Document 24: 0.0\n"
          ]
        }
      ]
    },
    {
      "cell_type": "code",
      "source": [
        "# STEP 3\n",
        "# Create a matrix to store the TF-IDF values of the selected features for each document\n",
        "tfidf_matrix = np.zeros((5, 2))\n",
        "\n",
        "# Fill the matrix with the TF-IDF values\n",
        "for i, doc in enumerate([d1_train, d2_train, d3_train, d4_train, d5_train]):\n",
        "    for j, (feature, _) in enumerate(top_features):\n",
        "        tfidf_matrix[i, j] = X[i, vectorizer.vocabulary_[feature]]\n",
        "\n",
        "# Print the TF-IDF matrix\n",
        "print(\"TF-IDF Matrix:\")\n",
        "print(tfidf_matrix)"
      ],
      "metadata": {
        "colab": {
          "base_uri": "https://localhost:8080/"
        },
        "id": "mmHmxbr6XPmL",
        "outputId": "a0b2a991-8488-40ea-e5c4-24bd48d93b18"
      },
      "execution_count": 46,
      "outputs": [
        {
          "output_type": "stream",
          "name": "stdout",
          "text": [
            "TF-IDF Matrix:\n",
            "[[0. 1.]\n",
            " [0. 1.]\n",
            " [0. 1.]\n",
            " [0. 0.]\n",
            " [0. 0.]]\n"
          ]
        }
      ]
    },
    {
      "cell_type": "code",
      "source": [
        "# STEP 4\n",
        "\n",
        "# Calculate the TF-IDF values for d6_test\n",
        "tfidf_vector_d6 = np.zeros((1, 2))\n",
        "for j, (feature, _) in enumerate(top_features):\n",
        "    tfidf_vector_d6[0, j] = X[len(all_train) + 0, vectorizer.vocabulary_[feature]]\n",
        "\n",
        "# Print the TF-IDF vector for d6_test\n",
        "print(\"TF-IDF vector for d6_test:\")\n",
        "print(tfidf_vector_d6)"
      ],
      "metadata": {
        "colab": {
          "base_uri": "https://localhost:8080/"
        },
        "id": "sDSwqAFUXhVq",
        "outputId": "1937e010-3162-4aa6-d276-e6832233b3b6"
      },
      "execution_count": 47,
      "outputs": [
        {
          "output_type": "stream",
          "name": "stdout",
          "text": [
            "TF-IDF vector for d6_test:\n",
            "[[1. 0.]]\n"
          ]
        }
      ]
    },
    {
      "cell_type": "code",
      "source": [
        "# STEP 5\n",
        "\n",
        "# Calculate the TF-IDF values for d7_test\n",
        "tfidf_vector_d7 = np.zeros((1, 2))\n",
        "for j, (feature, _) in enumerate(top_features):\n",
        "    tfidf_vector_d7[0, j] = X[len(all_train) + 1, vectorizer.vocabulary_[feature]]\n",
        "\n",
        "# Print the TF-IDF vector for d7_test\n",
        "print(\"TF-IDF vector for d7_test:\")\n",
        "print(tfidf_vector_d7)"
      ],
      "metadata": {
        "colab": {
          "base_uri": "https://localhost:8080/"
        },
        "id": "V44ohLywYrr9",
        "outputId": "3da3c4ba-a0e3-4b91-fc1e-c572e5b4f7d0"
      },
      "execution_count": 48,
      "outputs": [
        {
          "output_type": "stream",
          "name": "stdout",
          "text": [
            "TF-IDF vector for d7_test:\n",
            "[[0. 0.]]\n"
          ]
        }
      ]
    },
    {
      "cell_type": "code",
      "source": [
        "# STEP 6\n",
        "\n",
        "\n",
        "# Train the KNN classifier\n",
        "knn = KNeighborsClassifier(n_neighbors=3)\n",
        "knn.fit(tfidf_matrix, [\"S\",\"S\",\"N\",\"N\",\"N\"])\n",
        "\n",
        "# Convert the TF-IDF values for d6_test\n",
        "tfidf_vector_d6 = np.zeros((len(d6_test), 2))\n",
        "for i, doc in enumerate(d6_test):\n",
        "    for j, (feature, _) in enumerate(top_features):\n",
        "        tfidf_vector_d6[i, j] = vectorizer.transform([doc]).toarray()[:, vectorizer.vocabulary_[feature]]\n",
        "\n",
        "# Predict the class label of d6\n",
        "prediction_d6 = knn.predict(tfidf_vector_d6)\n",
        "\n",
        "# Print the predicted class label of d6\n",
        "print(\"Predicted class label of d6:\", prediction_d6[0])"
      ],
      "metadata": {
        "colab": {
          "base_uri": "https://localhost:8080/"
        },
        "id": "BZZGsrsEY4ol",
        "outputId": "d0d8560a-f15a-43ad-f9c5-947bab6af1e0"
      },
      "execution_count": 49,
      "outputs": [
        {
          "output_type": "stream",
          "name": "stdout",
          "text": [
            "Predicted class label of d6: N\n"
          ]
        }
      ]
    },
    {
      "cell_type": "code",
      "source": [
        "# STEP 7\n",
        "\n",
        "# Train the KNN classifier\n",
        "knn = KNeighborsClassifier(n_neighbors=3)\n",
        "knn.fit(tfidf_matrix, [\"S\",\"S\",\"N\",\"N\",\"N\"])\n",
        "\n",
        "# Convert the TF-IDF values for d6_test\n",
        "tfidf_vector_d7 = np.zeros((len(d7_test), 2))\n",
        "for i, doc in enumerate(d7_test):\n",
        "    for j, (feature, _) in enumerate(top_features):\n",
        "        tfidf_vector_d7[i, j] = vectorizer.transform([doc]).toarray()[:, vectorizer.vocabulary_[feature]]\n",
        "\n",
        "# Predict the class label of d6\n",
        "prediction_d7 = knn.predict(tfidf_vector_d7)\n",
        "\n",
        "# Print the predicted class label of d6\n",
        "print(\"Predicted class label of d7:\", prediction_d7[0])"
      ],
      "metadata": {
        "colab": {
          "base_uri": "https://localhost:8080/"
        },
        "id": "co8U3NscdYej",
        "outputId": "1f9a23ac-6897-4a45-e2ce-55f88418e478"
      },
      "execution_count": 50,
      "outputs": [
        {
          "output_type": "stream",
          "name": "stdout",
          "text": [
            "Predicted class label of d7: S\n"
          ]
        }
      ]
    }
  ]
}